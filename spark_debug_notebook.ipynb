{
 "cells": [
  {
   "cell_type": "markdown",
   "id": "a8e184d6",
   "metadata": {},
   "source": [
    "# SparkOperator Authentication Debug Notebook\n",
    "\n",
    "This notebook helps troubleshoot Kubernetes Spark executor authentication errors, specifically the `KerberosAuthException` and `UnixPrincipal` null input issues that occur when running Spark applications in Kubernetes.\n",
    "\n",
    "## Problem Statement\n",
    "We're seeing this error in Spark executors:\n",
    "```\n",
    "Exception in thread \"main\" org.apache.hadoop.security.KerberosAuthException: failure to login: javax.security.auth.login.LoginException: java.lang.NullPointerException: invalid null input: name\n",
    "```\n",
    "\n",
    "This typically happens when the Spark container doesn't have proper user context or security configuration."
   ]
  },
  {
   "cell_type": "markdown",
   "id": "afc4e82a",
   "metadata": {},
   "source": [
    "## 1. Setup Environment and Import Libraries\n",
    "\n",
    "First, let's import the necessary libraries and set up our environment for debugging."
   ]
  }
 ],
 "metadata": {
  "language_info": {
   "name": "python"
  }
 },
 "nbformat": 4,
 "nbformat_minor": 5
}
