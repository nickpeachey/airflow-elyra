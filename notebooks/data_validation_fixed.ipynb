{
 "cells": [
  {
   "cell_type": "markdown",
   "id": "3b4fa52e",
   "metadata": {},
   "source": [
    "# Data Validation Notebook\n",
    "\n",
    "This notebook performs data quality validation on processed data.\n",
    "\n",
    "## Parameters\n",
    "- `execution_date`: Date of pipeline execution\n",
    "- `s3_bucket`: S3 bucket containing processed data\n",
    "- `aws_endpoint_url`: AWS endpoint URL (LocalStack)"
   ]
  },
  {
   "cell_type": "code",
   "execution_count": null,
   "id": "73983530",
   "metadata": {},
   "outputs": [],
   "source": [
    "    \"# Parameters - these will be injected by Papermill\\n\",\n",
    "    \"execution_date = '2024-01-01'\\n\",\n",
    "    \"s3_bucket = 'processed-data'\\n\",\n",
    "    \"aws_endpoint_url = 'http://localstack-service.localstack:4566'\""
   ]
  },
  {
   "cell_type": "code",
   "execution_count": null,
   "id": "84e57d02",
   "metadata": {},
   "outputs": [],
   "source": [
    "import pandas as pd\n",
    "import boto3\n",
    "import numpy as np\n",
    "from datetime import datetime\n",
    "import os\n",
    "import json\n",
    "\n",
    "# Configure AWS credentials for LocalStack\n",
    "os.environ['AWS_ACCESS_KEY_ID'] = 'test'\n",
    "os.environ['AWS_SECRET_ACCESS_KEY'] = 'test'\n",
    "os.environ['AWS_DEFAULT_REGION'] = 'us-east-1'\n",
    "\n",
    "print(f\"Execution Date: {execution_date}\")\n",
    "print(f\"S3 Bucket: {s3_bucket}\")\n",
    "print(f\"AWS Endpoint: {aws_endpoint_url}\")"
   ]
  },
  {
   "cell_type": "code",
   "execution_count": null,
   "id": "0ee65870",
   "metadata": {},
   "outputs": [],
   "source": [
    "# Initialize S3 client\n",
    "s3_client = boto3.client(\n",
    "    's3',\n",
    "    endpoint_url=aws_endpoint_url,\n",
    "    aws_access_key_id='test',\n",
    "    aws_secret_access_key='test',\n",
    "    region_name='us-east-1'\n",
    ")\n",
    "\n",
    "# List objects in the processed data bucket\n",
    "try:\n",
    "    response = s3_client.list_objects_v2(Bucket=s3_bucket)\n",
    "    if 'Contents' in response:\n",
    "        print(f\"Found {len(response['Contents'])} objects in bucket:\")\n",
    "        for obj in response['Contents'][:10]:  # Show first 10\n",
    "            print(f\"  - {obj['Key']} ({obj['Size']} bytes)\")\n",
    "    else:\n",
    "        print(\"No objects found in bucket\")\n",
    "except Exception as e:\n",
    "    print(f\"Error accessing bucket: {e}\")"
   ]
  },
  {
   "cell_type": "markdown",
   "id": "d93d444d",
   "metadata": {},
   "source": [
    "## Summary\n",
    "\n",
    "Data validation completed!\n",
    "\n",
    "This notebook validates the quality and integrity of processed data."
   ]
  }
 ],
 "metadata": {
  "language_info": {
   "name": "python"
  }
 },
 "nbformat": 4,
 "nbformat_minor": 5
}
