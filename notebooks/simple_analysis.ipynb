{
 "cells": [
  {
   "cell_type": "markdown",
   "id": "9440c4ec",
   "metadata": {},
   "source": [
    "# Simple Analysis Notebook\n",
    "\n",
    "A simple example notebook for Papermill parameterization.\n",
    "\n",
    "## Parameters\n",
    "- `execution_date`: Date of analysis\n",
    "- `sample_size`: Number of samples to generate"
   ]
  },
  {
   "cell_type": "code",
   "execution_count": null,
   "id": "0de96a4b",
   "metadata": {},
   "outputs": [],
   "source": [
    "# Parameters - these will be injected by Papermill\n",
    "execution_date = '2024-01-01'\n",
    "sample_size = 1000"
   ]
  },
  {
   "cell_type": "code",
   "execution_count": null,
   "id": "5d9f8d79",
   "metadata": {},
   "outputs": [],
   "source": [
    "import pandas as pd\n",
    "import numpy as np\n",
    "import matplotlib.pyplot as plt\n",
    "import seaborn as sns\n",
    "from datetime import datetime\n",
    "\n",
    "print(f\"Analysis Date: {execution_date}\")\n",
    "print(f\"Sample Size: {sample_size}\")\n",
    "print(f\"Generated at: {datetime.now()}\")"
   ]
  },
  {
   "cell_type": "code",
   "execution_count": null,
   "id": "4af71f2d",
   "metadata": {},
   "outputs": [],
   "source": [
    "# Generate sample data\n",
    "np.random.seed(42)\n",
    "\n",
    "data = pd.DataFrame({\n",
    "    'category': np.random.choice(['A', 'B', 'C', 'D'], sample_size),\n",
    "    'value': np.random.normal(100, 15, sample_size),\n",
    "    'score': np.random.uniform(0, 1, sample_size)\n",
    "})\n",
    "\n",
    "print(f\"Generated {len(data)} samples\")\n",
    "print(data.head())\n",
    "print(\"\\nData Summary:\")\n",
    "print(data.describe())"
   ]
  },
  {
   "cell_type": "code",
   "execution_count": null,
   "id": "fe102442",
   "metadata": {},
   "outputs": [],
   "source": [
    "# Basic analysis\n",
    "category_stats = data.groupby('category').agg({\n",
    "    'value': ['mean', 'std', 'count'],\n",
    "    'score': ['mean', 'std']\n",
    "})\n",
    "\n",
    "print(\"Category Statistics:\")\n",
    "print(category_stats)"
   ]
  },
  {
   "cell_type": "code",
   "execution_count": null,
   "id": "427dafc4",
   "metadata": {},
   "outputs": [],
   "source": [
    "# Create visualizations\n",
    "fig, axes = plt.subplots(2, 2, figsize=(12, 10))\n",
    "\n",
    "# Histogram of values\n",
    "axes[0, 0].hist(data['value'], bins=30, alpha=0.7)\n",
    "axes[0, 0].set_title('Distribution of Values')\n",
    "axes[0, 0].set_xlabel('Value')\n",
    "axes[0, 0].set_ylabel('Frequency')\n",
    "\n",
    "# Box plot by category\n",
    "data.boxplot(column='value', by='category', ax=axes[0, 1])\n",
    "axes[0, 1].set_title('Value Distribution by Category')\n",
    "\n",
    "# Scatter plot\n",
    "axes[1, 0].scatter(data['value'], data['score'], alpha=0.6)\n",
    "axes[1, 0].set_xlabel('Value')\n",
    "axes[1, 0].set_ylabel('Score')\n",
    "axes[1, 0].set_title('Value vs Score')\n",
    "\n",
    "# Category counts\n",
    "data['category'].value_counts().plot(kind='bar', ax=axes[1, 1])\n",
    "axes[1, 1].set_title('Category Counts')\n",
    "axes[1, 1].set_xlabel('Category')\n",
    "axes[1, 1].set_ylabel('Count')\n",
    "\n",
    "plt.tight_layout()\n",
    "plt.show()"
   ]
  },
  {
   "cell_type": "code",
   "execution_count": null,
   "id": "4afe6a6d",
   "metadata": {},
   "outputs": [],
   "source": [
    "# Generate summary metrics\n",
    "summary_metrics = {\n",
    "    'execution_date': execution_date,\n",
    "    'sample_size': sample_size,\n",
    "    'total_records': len(data),\n",
    "    'average_value': data['value'].mean(),\n",
    "    'median_value': data['value'].median(),\n",
    "    'std_value': data['value'].std(),\n",
    "    'average_score': data['score'].mean(),\n",
    "    'categories': data['category'].nunique(),\n",
    "    'generated_at': datetime.now().isoformat()\n",
    "}\n",
    "\n",
    "print(\"\\nSummary Metrics:\")\n",
    "for key, value in summary_metrics.items():\n",
    "    print(f\"  {key}: {value}\")"
   ]
  },
  {
   "cell_type": "markdown",
   "id": "0995212f",
   "metadata": {},
   "source": [
    "## Analysis Complete\n",
    "\n",
    "This simple analysis demonstrated:\n",
    "1. Parameter injection via Papermill\n",
    "2. Data generation and basic statistics\n",
    "3. Visualization creation\n",
    "4. Summary metrics generation\n",
    "\n",
    "This notebook can be parameterized and run automatically as part of an Airflow pipeline."
   ]
  }
 ],
 "metadata": {
  "language_info": {
   "name": "python"
  }
 },
 "nbformat": 4,
 "nbformat_minor": 5
}
