{
 "cells": [
  {
   "cell_type": "markdown",
   "id": "64852ef3",
   "metadata": {},
   "source": [
    "# Simple Analysis Notebook\n",
    "\n",
    "This notebook performs basic analysis on processed data.\n",
    "\n",
    "## Parameters\n",
    "- `execution_date`: Date of pipeline execution\n",
    "- `s3_bucket`: S3 bucket containing data\n",
    "- `aws_endpoint_url`: AWS endpoint URL (LocalStack)"
   ]
  },
  {
   "cell_type": "code",
   "execution_count": null,
   "id": "8bdae72e",
   "metadata": {},
   "outputs": [],
   "source": [
    "# Parameters - these will be injected by Papermill\n",
    "execution_date = '2024-01-01'\n",
    "s3_bucket = 'data-lake'\n",
    "aws_endpoint_url = 'http://localhost:4566'"
   ]
  },
  {
   "cell_type": "code",
   "execution_count": null,
   "id": "9d03d970",
   "metadata": {},
   "outputs": [],
   "source": [
    "import pandas as pd\n",
    "import boto3\n",
    "import numpy as np\n",
    "import matplotlib.pyplot as plt\n",
    "import seaborn as sns\n",
    "from datetime import datetime\n",
    "import os\n",
    "\n",
    "# Configure AWS credentials for LocalStack\n",
    "os.environ['AWS_ACCESS_KEY_ID'] = 'test'\n",
    "os.environ['AWS_SECRET_ACCESS_KEY'] = 'test'\n",
    "os.environ['AWS_DEFAULT_REGION'] = 'us-east-1'\n",
    "\n",
    "print(f\"Execution Date: {execution_date}\")\n",
    "print(f\"S3 Bucket: {s3_bucket}\")\n",
    "print(f\"AWS Endpoint: {aws_endpoint_url}\")"
   ]
  },
  {
   "cell_type": "code",
   "execution_count": null,
   "id": "e63f482a",
   "metadata": {},
   "outputs": [],
   "source": [
    "# Sample analysis\n",
    "print(\"Performing simple data analysis...\")\n",
    "\n",
    "# Generate sample data for demonstration\n",
    "np.random.seed(42)\n",
    "data = {\n",
    "    'category': np.random.choice(['A', 'B', 'C', 'D'], 1000),\n",
    "    'value': np.random.normal(100, 25, 1000),\n",
    "    'date': pd.date_range(start=execution_date, periods=1000, freq='H')\n",
    "}\n",
    "\n",
    "df = pd.DataFrame(data)\n",
    "print(f\"Analyzed {len(df)} records\")\n",
    "print(df.describe())"
   ]
  },
  {
   "cell_type": "markdown",
   "id": "c4173bc0",
   "metadata": {},
   "source": [
    "## Summary\n",
    "\n",
    "Simple analysis completed successfully!\n",
    "\n",
    "Basic statistical analysis has been performed on the dataset."
   ]
  }
 ],
 "metadata": {
  "language_info": {
   "name": "python"
  }
 },
 "nbformat": 4,
 "nbformat_minor": 5
}
